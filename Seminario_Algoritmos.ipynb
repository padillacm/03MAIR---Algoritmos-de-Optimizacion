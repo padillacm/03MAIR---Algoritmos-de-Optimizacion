{
 "cells": [
  {
   "cell_type": "markdown",
   "metadata": {
    "id": "hVbXYX-RfPWh"
   },
   "source": [
    "# Algoritmos de optimización - Seminario<br>\n",
    "Nombre y Apellidos: Carlos Mario Padilla Gomez  <br>\n",
    "Url: https://github.com/padillacm/03MAIR---Algoritmos-de-Optimizacion <br>\n",
    "Problema:\n",
    "> 1. Sesiones de doblaje <br>\n",
    ">2. Organizar los horarios de partidos de La Liga<br>\n",
    ">3. Combinar cifras y operaciones\n",
    "\n",
    "Descripción del problema:(copiar enunciado)\n",
    "\n",
    "....\n",
    "\n",
    "(*) La respuesta es obligatoria\n",
    "\n",
    "\n",
    "\n",
    "\n",
    "\n",
    "                                        "
   ]
  },
  {
   "cell_type": "markdown",
   "metadata": {
    "id": "AiskKkzZfy4e"
   },
   "source": [
    "Se precisa coordinar el doblaje de una película. Los actores del doblaje deben coincidir en las\n",
    "tomas en las que sus personajes aparecen juntos en las diferentes tomas. Los actores de\n",
    "doblaje cobran todos la misma cantidad por cada día que deben desplazarse hasta el estudio de\n",
    "grabación independientemente del número de tomas que se graben. No es posible grabar más\n",
    "de 6 tomas por día. El objetivo es planificar las sesiones por día de manera que el gasto por los\n",
    "servicios de los actores de doblaje sea el menor posible."
   ]
  },
  {
   "cell_type": "markdown",
   "metadata": {
    "id": "3_-exlrTgLd-"
   },
   "source": [
    "(*)¿Cuantas posibilidades hay sin tener en cuenta las restricciones?<br>\n",
    "\n",
    "\n",
    "\n",
    "¿Cuantas posibilidades hay teniendo en cuenta todas las restricciones.\n",
    "\n",
    "\n"
   ]
  },
  {
   "cell_type": "markdown",
   "metadata": {
    "id": "WfCUqJyKhPcw"
   },
   "source": [
    "Respuesta"
   ]
  },
  {
   "cell_type": "markdown",
   "metadata": {
    "id": "iq6Fe32MgpDX"
   },
   "source": [
    "(30C6)x(24C6)x(18C6)x(12C6)x(6C6)"
   ]
  },
  {
   "cell_type": "markdown",
   "metadata": {
    "id": "dzynfVJahHoY"
   },
   "source": [
    "Modelo para el espacio de soluciones<br>\n",
    "(*) ¿Cual es la estructura de datos que mejor se adapta al problema? Argumentalo.(Es posible que hayas elegido una al principio y veas la necesidad de cambiar, arguentalo)\n"
   ]
  },
  {
   "cell_type": "markdown",
   "metadata": {
    "id": "xFIJrOwKi2Ti"
   },
   "source": [
    "Respuesta"
   ]
  },
  {
   "cell_type": "markdown",
   "metadata": {
    "id": "38c-7-ejhJmA"
   },
   "source": [
    "En el caso del algoritmo genético inicialmente tenía una estructura de 4 dimensiones con la que modelar la cantidad de población, luego correspondía a los genes, luego a los alelos y cada alelo el índice de las tomas que le corresponden en el día. Por otra parte, tenía una matriz que contenía el índice de cada gen y el pago del rodaje y la cantidad de intersecciones. Al final vi que era ineficiente tener estas dos por separado así que junte todo en una estructura que tiene [num poblacion,pago rodaje,intersecciones, gen], ya con este arreglo podía hacer todo dentro del algoritmo genético. Mientras que con el algoritmo de fuerza bruta solo es necesario una lista por cada día que contiene el índice de las tomas."
   ]
  },
  {
   "cell_type": "markdown",
   "metadata": {
    "id": "7Z9U2W7bi-XS"
   },
   "source": [
    "Según el modelo para el espacio de soluciones<br>\n",
    "(*)¿Cual es la función objetivo?\n",
    "\n",
    "(*)¿Es un problema de maximización o minimización?"
   ]
  },
  {
   "cell_type": "markdown",
   "metadata": {
    "id": "hBalWLM7j1_d"
   },
   "source": [
    "Respuesta"
   ]
  },
  {
   "cell_type": "markdown",
   "metadata": {
    "id": "pDA-rg3Gj5Lz"
   },
   "source": [
    "En el caso del problema se desea principalmente minimizar la cantidad a pagar por todo el rodaje y para ello tambien maximixar la cantidad de tomas que un actor tiene que rodar durante el día."
   ]
  },
  {
   "cell_type": "code",
   "execution_count": 26,
   "metadata": {},
   "outputs": [],
   "source": [
    "## una funcion de utilidad\n",
    "import numpy as np\n",
    "import random\n",
    "import copy\n",
    "\n",
    "def calculate_repetitions_and_payment(tomasDia):\n",
    "    count_actores = np.count_nonzero(tomasDia,axis=0)\n",
    "    mask = (count_actores - 1) > 0\n",
    "    return np.sum(count_actores[mask]-1),np.count_nonzero(count_actores)"
   ]
  },
  {
   "cell_type": "markdown",
   "metadata": {
    "id": "rlnTYgY1j6I2"
   },
   "source": [
    "Diseña un algoritmo para resolver el problema por fuerza bruta"
   ]
  },
  {
   "cell_type": "markdown",
   "metadata": {
    "id": "70rDgxYXkC8r"
   },
   "source": [
    "Respuesta"
   ]
  },
  {
   "cell_type": "code",
   "execution_count": null,
   "metadata": {
    "id": "CJb5sQ0qkENy"
   },
   "outputs": [],
   "source": [
    "from itertools import combinations\n",
    "m = 30\n",
    "pagoMejor,councidenciaMejor = 99999999,999999999\n",
    "def remove_tuple(list_, tuple_):\n",
    "    for t in tuple_:\n",
    "        list_.remove(t)\n",
    "    return list_\n",
    "\n",
    "list_1 = [i for i in range(m)]\n",
    "\n",
    "combs_1 = combinations(list_1, 6)\n",
    "for comb_1 in combs_1:\n",
    "    councidencia1,pago1 = calculate_repetitions_and_payment(cronograma_tomas[comb_1,:])\n",
    "    list_2 = list_1.copy()\n",
    "    list_2 = remove_tuple(list_2, comb_1)\n",
    "    combs_2 = combinations(list_2, 6)\n",
    "    for comb_2 in combs_2:\n",
    "        councidencia2,pago2 = calculate_repetitions_and_payment(cronograma_tomas[comb_2,:])\n",
    "        list_3 = list_2.copy()\n",
    "        list_3 = remove_tuple(list_3, comb_2)\n",
    "        combs_3 = combinations(list_3, 6)\n",
    "        for comb_3 in combs_3:\n",
    "            councidencia3,pago3 = calculate_repetitions_and_payment(cronograma_tomas[comb_3,:])\n",
    "            list_4 = list_3.copy()\n",
    "            list_4 = remove_tuple(list_4, comb_3)\n",
    "            combs_4 = combinations(list_4, 6)\n",
    "            for comb_4 in combs_4:\n",
    "                councidencia4,pago4 = calculate_repetitions_and_payment(cronograma_tomas[comb_4,:])\n",
    "                list_5 = list_4.copy()\n",
    "                list_5 = remove_tuple(list_5, comb_4)\n",
    "                combs_5 = combinations(list_5, 6)\n",
    "                for comb_5 in combs_5:\n",
    "                    councidencia5,pago5 = calculate_repetitions_and_payment(cronograma_tomas[comb_5,:])\n",
    "                    #print(comb_1, comb_2, comb_3, comb_4, comb_5)\n",
    "                    councidenciaTotal = councidencia1+councidencia2+councidencia3+councidencia4+councidencia5\n",
    "                    pagoTotal = pago1+pago2+pago3+pago4+pago5\n",
    "                    if (pagoTotal < pagoMejor) or (pagoTotal == pagoMejor or councidenciaTotal < councidenciaMejor):\n",
    "                            pagoMejor = pagoTotal\n",
    "                            councidenciaMejor = councidenciaTotal\n",
    "                            mejorCronograma = (comb_1, comb_2, comb_3, comb_4, comb_5)\n",
    "print(pagoMejor,councidenciaMejor,mejorCronograma)"
   ]
  },
  {
   "cell_type": "markdown",
   "metadata": {
    "id": "tgrnsC2nkFa8"
   },
   "source": [
    "Calcula la complejidad del algoritmo por fuerza bruta"
   ]
  },
  {
   "cell_type": "markdown",
   "metadata": {
    "id": "9eUd3xwckP68"
   },
   "source": [
    "Respuesta"
   ]
  },
  {
   "cell_type": "markdown",
   "metadata": {},
   "source": [
    "sea n la cantidad de tomas y k la maxima cantidad de tomas por días."
   ]
  },
  {
   "cell_type": "markdown",
   "metadata": {
    "id": "rvZWwL-ckRST"
   },
   "source": [
    "$$\\mathcal{O} \\left ( \\prod_{i = 0}^{\\left \\lceil \\frac{n}{k} \\right \\rceil - 1}{(n - k \\cdot i) \\choose \\min (k, n - k \\cdot i)} \\right )$$"
   ]
  },
  {
   "cell_type": "markdown",
   "metadata": {
    "id": "txbrmLmskReM"
   },
   "source": [
    "(*)Diseña un algoritmo que mejore la complejidad del algortimo por fuerza bruta. Argumenta porque crees que mejora el algoritmo por fuerza bruta"
   ]
  },
  {
   "cell_type": "markdown",
   "metadata": {
    "id": "hLrVwt5QkZPD"
   },
   "source": [
    "Respuesta"
   ]
  },
  {
   "cell_type": "markdown",
   "metadata": {},
   "source": [
    "En este caso se desarrolló un algoritmo genético como solución no determinista a mejorar un problema que tiene un espacio de búsqueda muy grande. La ventaja de este tipo de algoritmos es que podemos tener un buen resultado, no necesariamente el mejor, pero en un tiempo mucho mas reducido que el de fuerza bruta donde son tantas combinaciones posibles que en tiempo no es viable. Además, la ventaja del algoritmo genético es que nos permite flexibilizar el problema para cuando se sumen mas restricciones, haciéndolas más fácil de implementar y aun así obteniendo un resultado aceptable.   "
   ]
  },
  {
   "cell_type": "code",
   "execution_count": 17,
   "metadata": {
    "id": "m1eyM21Vkabg"
   },
   "outputs": [],
   "source": [
    "def inicializacion(numDias,numTomasPorDia,num_total_tomas,n_poblacion,tomas_disponibles):\n",
    "    genes = [[] for i in range(n_poblacion)]   \n",
    "    for i in range(n_poblacion):\n",
    "        temp = np.asarray(tomas_disponibles.copy())\n",
    "        cronograma = []\n",
    "        for dia in range(numDias):\n",
    "            sub = random.sample(list(temp), numTomasPorDia)\n",
    "            mask = np.ones(len(temp), dtype=bool)\n",
    "            pos = np.where((temp == sub[0]) | (temp == sub[1]) | \n",
    "             (temp == sub[2]) | (temp == sub[3]) | \n",
    "             (temp == sub[4]) | (temp == sub[5]))\n",
    "            mask[pos] = False\n",
    "            temp = temp[mask]\n",
    "            cronograma.append(sub)\n",
    "        genes[i].append(0)\n",
    "        genes[i].append(0)\n",
    "        genes[i].append(cronograma)\n",
    "    return np.asarray(genes)"
   ]
  },
  {
   "cell_type": "code",
   "execution_count": 18,
   "metadata": {},
   "outputs": [],
   "source": [
    "def fitness(n_poblacion,numDias,poblacion):\n",
    "    for i in range(n_poblacion):\n",
    "        pago_total = 0\n",
    "        total_coincidencia = 0\n",
    "        for dia in range(numDias):\n",
    "            toma_dia = poblacion[i,2][dia]\n",
    "            resultado_dia = calculate_repetitions_and_payment(cronograma_tomas[toma_dia])\n",
    "            pago_total += resultado_dia[1]\n",
    "            total_coincidencia += resultado_dia[0]\n",
    "        poblacion[i,0] = pago_total\n",
    "        poblacion[i,1] = total_coincidencia\n",
    "    return poblacion"
   ]
  },
  {
   "cell_type": "code",
   "execution_count": 19,
   "metadata": {},
   "outputs": [],
   "source": [
    "def selection(num_aptos,poblacion):\n",
    "    poblacion = list(poblacion)\n",
    "    poblacion.sort(key=lambda x: (x[0],-1*x[1]))\n",
    "    poblacion = np.asarray(poblacion)\n",
    "    return (list(poblacion[0:num_aptos,:]),poblacion)"
   ]
  },
  {
   "cell_type": "code",
   "execution_count": 20,
   "metadata": {},
   "outputs": [],
   "source": [
    "def corrector_cruce(gen,numDias,numTomasPorDia):\n",
    "    gen_evaluation = [[i,calculate_repetitions_and_payment(cronograma_tomas[gen[i]])] for i in range(numDias)]\n",
    "    gen_evaluation.sort(key=lambda x: (-1*x[1][1],x[1][0]))\n",
    "\n",
    "    values,count = np.unique(gen,return_counts = True)\n",
    "    faltantes = list(set(tomas_disponibles) - set(values))\n",
    "    repetidos = list(values[count > 1])\n",
    "    count_repetidos = list(count[count > 1])\n",
    "\n",
    "    for i,score in gen_evaluation:\n",
    "        num_sobrantes = set(gen[i]).intersection(set(repetidos))\n",
    "        if(len(repetidos) == 0):\n",
    "                break\n",
    "        for j in range(numTomasPorDia):\n",
    "            if(len(num_sobrantes) == 0):\n",
    "                break\n",
    "            if gen[i][j] in num_sobrantes:\n",
    "                tempNum = gen[i][j]\n",
    "                newNum = random.choice(faltantes)\n",
    "                gen[i][j] = newNum\n",
    "\n",
    "                faltantes.remove(newNum)\n",
    "                num_sobrantes.remove(tempNum)\n",
    "\n",
    "                index_num_repetido = repetidos.index(tempNum)\n",
    "                count_repetidos[index_num_repetido] -= 1\n",
    "\n",
    "                if count_repetidos[index_num_repetido] == 1:\n",
    "                    repetidos.pop(index_num_repetido)\n",
    "                    count_repetidos.pop(index_num_repetido)\n",
    "    return gen"
   ]
  },
  {
   "cell_type": "code",
   "execution_count": 21,
   "metadata": {},
   "outputs": [],
   "source": [
    "def reproduccion(numDias,numTomasPorDia,num_actos,mas_actos,poblacion):\n",
    "    for i in range (num_actos,poblacion.shape[0]):\n",
    "        point = 0\n",
    "        point = np.random.randint(1,numDias - 1)\n",
    "        padres = random.sample(mas_actos,2)\n",
    "\n",
    "        gen = poblacion[i,2]\n",
    "        gen[:point] = copy.deepcopy(padres[0][2][:point])\n",
    "        gen[point:] = copy.deepcopy(padres[1][2][point:])\n",
    "        gen = corrector_cruce(gen,numDias,numTomasPorDia)\n",
    "    return poblacion"
   ]
  },
  {
   "cell_type": "code",
   "execution_count": 22,
   "metadata": {},
   "outputs": [],
   "source": [
    "def mutacion(numTomasPorDia,num_alelos_tot,num_max_mutaciones,porcentaje_mutacion,poblacion):\n",
    "    for _,_,gen in poblacion:\n",
    "        if np.random.choice((True, False), p=[porcentaje_mutacion, 1-porcentaje_mutacion]):\n",
    "            num_mutaciones = np.random.randint(2,num_max_mutaciones+1)\n",
    "            alelos_select = random.sample(num_alelos_tot,num_mutaciones)\n",
    "            temp = np.array(gen)[alelos_select].flatten()\n",
    "            for num_alelo in alelos_select:\n",
    "                new_alelo = random.sample(list(temp), numTomasPorDia)\n",
    "                mask = np.ones(len(temp), dtype=bool)\n",
    "                pos = np.where((temp == new_alelo[0]) | (temp == new_alelo[1]) | \n",
    "                 (temp == new_alelo[2]) | (temp == new_alelo[3]) | \n",
    "                 (temp == new_alelo[4]) | (temp == new_alelo[5]))\n",
    "                mask[pos] = False\n",
    "                temp = temp[mask]\n",
    "                gen[num_alelo] = new_alelo\n",
    "    return poblacion"
   ]
  },
  {
   "cell_type": "code",
   "execution_count": 45,
   "metadata": {},
   "outputs": [],
   "source": [
    "numDias = 5\n",
    "numTomasPorDia = 6\n",
    "num_total_tomas = 30\n",
    "n_poblacion = 100\n",
    "num_actos = 7\n",
    "porcentaje_mutacion = 0.3\n",
    "num_max_mutaciones = 3\n",
    "tomas_disponibles = [i for i in range(num_total_tomas)]\n",
    "num_alelos_tot = [i for i in range(numDias)]\n",
    "mejor_gen = [[99999,99999]]"
   ]
  },
  {
   "cell_type": "code",
   "execution_count": 38,
   "metadata": {},
   "outputs": [],
   "source": [
    "cronograma_tomas_temp = []\n",
    "with open('tomas.txt') as f:\n",
    "    lines = f.readlines()\n",
    "    for line in lines:\n",
    "        cronograma_tomas_temp.append((line.replace('\\n','').split('\\t')))\n",
    "cronograma_tomas = np.asarray(cronograma_tomas_temp,dtype=np.uint8)"
   ]
  },
  {
   "cell_type": "code",
   "execution_count": 28,
   "metadata": {},
   "outputs": [],
   "source": [
    "totGeneraciones = 500\n",
    "poblacion = inicializacion(numDias,numTomasPorDia,num_total_tomas,n_poblacion,tomas_disponibles)\n",
    "for generacion in range(totGeneraciones):\n",
    "    \n",
    "    poblacion = fitness(n_poblacion,numDias,poblacion)\n",
    "    mas_actos, poblacion = selection(num_actos,poblacion)\n",
    "    \n",
    "    if mas_actos[0][0] < mejor_gen[0][0] or (mas_actos[0][0] == mejor_gen[0][0] and mas_actos[0][1] > mejor_gen[0][1]):\n",
    "        mejor_gen[0] = mas_actos[0]\n",
    "        \n",
    "    poblacion = reproduccion(numDias,numTomasPorDia,num_actos,mas_actos,poblacion)\n",
    "    poblacion = mutacion(numTomasPorDia,num_alelos_tot,num_max_mutaciones,porcentaje_mutacion,poblacion)"
   ]
  },
  {
   "cell_type": "code",
   "execution_count": 29,
   "metadata": {},
   "outputs": [
    {
     "name": "stdout",
     "output_type": "stream",
     "text": [
      "pago total:  28\n",
      "total intersecciones:  66\n",
      "distribucion:  [[7, 25, 28, 11, 6, 9], [27, 0, 1, 21, 16, 19], [24, 8, 15, 5, 29, 26], [18, 17, 20, 13, 23, 22], [3, 14, 2, 10, 4, 12]]\n"
     ]
    }
   ],
   "source": [
    "print(\"pago total: \",mejor_gen[0][0])\n",
    "print(\"total intersecciones: \",mejor_gen[0][1])\n",
    "print(\"distribucion: \",mejor_gen[0][2])"
   ]
  },
  {
   "cell_type": "markdown",
   "metadata": {},
   "source": [
    "Mejor resultado obtenido hasta el momento  \n",
    "pago total:  27  \n",
    "total intersecciones:  67  \n",
    "distribucion:  [[5, 8, 12, 26, 29, 27], [14, 7, 20, 2, 28, 3], [11, 25, 9, 6, 10, 4], [24, 21, 0, 19, 1, 15], [18, 16, 22, 17, 23, 13]]  "
   ]
  },
  {
   "cell_type": "markdown",
   "metadata": {
    "id": "eGDB4K6uk1iN"
   },
   "source": [
    "(*)Calcula la complejidad del algoritmo "
   ]
  },
  {
   "cell_type": "markdown",
   "metadata": {
    "id": "NhpTh_BPk1ms"
   },
   "source": [
    "Respuesta"
   ]
  },
  {
   "cell_type": "markdown",
   "metadata": {
    "id": "nREzhkStlCq8"
   },
   "source": [
    "luego de analizar todo el codigo, el proceso mas pesado de todos es el de la reproduccion y su correccion llevando que la complejidad sea:  "
   ]
  },
  {
   "cell_type": "markdown",
   "metadata": {},
   "source": [
    "$$ \\begin{equation}\n",
    "    p = \\text{número de población} \\\\\n",
    "    a = \\text{número de genes actos} \\\\\n",
    "    d = \\text{número de días del rodaje} \\\\\n",
    "    t = \\text{número de tomas por día} \\\\\n",
    "    g = \\text{número de generaciones} \\\\\n",
    "\\end{equation} $$"
   ]
  },
  {
   "cell_type": "markdown",
   "metadata": {},
   "source": [
    "$$\\mathcal{O} \\left ({(p - a)*d*t*g} \\right )$$"
   ]
  },
  {
   "cell_type": "markdown",
   "metadata": {
    "id": "3M6QjTsSkmYe"
   },
   "source": [
    "Según el problema (y tenga sentido), diseña un juego de datos de entrada aleatorios"
   ]
  },
  {
   "cell_type": "markdown",
   "metadata": {
    "id": "Jc3_OlyNkvjZ"
   },
   "source": [
    "Respuesta"
   ]
  },
  {
   "cell_type": "code",
   "execution_count": 50,
   "metadata": {
    "id": "sJ-N2etjkyWc"
   },
   "outputs": [
    {
     "name": "stdout",
     "output_type": "stream",
     "text": [
      "[[0 0 0 1 0 0 0 0 1 1 0 0]\n",
      " [1 0 1 1 1 1 1 0 0 0 1 1]\n",
      " [1 0 0 1 0 0 1 0 0 0 0 1]\n",
      " [1 0 0 1 1 1 1 1 0 0 1 0]\n",
      " [0 1 1 1 0 0 1 0 0 1 1 0]\n",
      " [1 0 1 1 1 1 0 1 0 1 1 1]\n",
      " [1 0 0 1 0 1 0 0 1 0 1 0]\n",
      " [0 0 0 0 0 1 1 1 0 1 1 1]\n",
      " [0 0 1 1 0 1 0 1 1 1 0 1]\n",
      " [1 1 0 0 0 1 0 0 1 1 0 0]\n",
      " [0 1 0 0 0 0 1 0 1 0 0 1]\n",
      " [1 0 0 0 1 0 0 1 0 1 1 1]\n",
      " [0 1 1 0 1 1 0 1 0 1 1 1]\n",
      " [1 0 0 1 1 0 1 1 0 0 0 1]\n",
      " [1 1 1 1 0 1 1 0 1 1 0 0]\n",
      " [1 1 0 1 0 1 1 0 0 0 0 1]\n",
      " [0 0 0 0 1 0 1 0 0 0 1 0]\n",
      " [1 1 0 0 0 1 1 0 1 0 0 0]\n",
      " [0 1 1 1 0 0 1 0 0 0 0 0]\n",
      " [1 0 0 0 1 0 1 0 0 0 1 0]\n",
      " [1 0 1 0 1 0 1 0 1 1 1 1]\n",
      " [1 1 0 0 0 1 0 0 0 1 0 1]\n",
      " [1 0 0 1 1 0 0 1 0 0 0 1]\n",
      " [1 0 0 1 0 1 0 0 1 0 0 0]\n",
      " [0 0 1 0 1 1 0 1 0 1 0 0]\n",
      " [0 0 1 1 1 1 0 0 1 1 0 0]\n",
      " [0 1 1 0 0 1 0 1 1 1 0 1]\n",
      " [1 1 1 1 0 0 1 0 1 0 0 0]\n",
      " [0 1 1 0 0 1 0 1 1 1 1 1]\n",
      " [1 1 0 1 0 0 0 0 0 0 1 0]]\n"
     ]
    }
   ],
   "source": [
    "cronograma_tomas_temp = []\n",
    "for i in range(numDias*numTomasPorDia):\n",
    "    cronograma_tomas_temp.append(np.random.choice([0, 1], size=(12,), p=[0.5, 0.5])) \n",
    "cronograma_tomas = np.asarray(cronograma_tomas_temp,dtype=np.uint8)\n",
    "print(cronograma_tomas)"
   ]
  },
  {
   "cell_type": "markdown",
   "metadata": {
    "id": "zy5ZROmjlGo1"
   },
   "source": [
    "Aplica el algoritmo al juego de datos generado"
   ]
  },
  {
   "cell_type": "markdown",
   "metadata": {
    "id": "_Cmj-PVylMsa"
   },
   "source": [
    "Respuesta"
   ]
  },
  {
   "cell_type": "code",
   "execution_count": 51,
   "metadata": {
    "id": "Jkx8GeiYlUz1"
   },
   "outputs": [],
   "source": [
    "totGeneraciones = 1000\n",
    "mejor_gen = [[99999,99999]]\n",
    "\n",
    "poblacion = inicializacion(numDias,numTomasPorDia,num_total_tomas,n_poblacion,tomas_disponibles)\n",
    "for generacion in range(totGeneraciones):\n",
    "    \n",
    "    poblacion = fitness(n_poblacion,numDias,poblacion)\n",
    "    mas_actos, poblacion = selection(num_actos,poblacion)\n",
    "    \n",
    "    if mas_actos[0][0] < mejor_gen[0][0] or (mas_actos[0][0] == mejor_gen[0][0] and mas_actos[0][1] > mejor_gen[0][1]):\n",
    "        mejor_gen[0] = mas_actos[0]\n",
    "        \n",
    "    poblacion = reproduccion(numDias,numTomasPorDia,num_actos,mas_actos,poblacion)\n",
    "    poblacion = mutacion(numTomasPorDia,num_alelos_tot,num_max_mutaciones,porcentaje_mutacion,poblacion)"
   ]
  },
  {
   "cell_type": "code",
   "execution_count": 53,
   "metadata": {},
   "outputs": [
    {
     "name": "stdout",
     "output_type": "stream",
     "text": [
      "pago total:  49\n",
      "total intersecciones:  123\n",
      "distribucion:  [[6, 21, 29, 13, 9, 19], [10, 14, 4, 25, 0, 20], [23, 2, 17, 27, 15, 18], [26, 7, 11, 28, 8, 1], [5, 24, 16, 22, 12, 3]]\n"
     ]
    }
   ],
   "source": [
    "print(\"pago total: \",mejor_gen[0][0])\n",
    "print(\"total intersecciones: \",mejor_gen[0][1])\n",
    "print(\"distribucion: \",mejor_gen[0][2])"
   ]
  },
  {
   "cell_type": "markdown",
   "metadata": {
    "id": "eTFWUJQrtGcv"
   },
   "source": [
    "Enumera las referencias que has utilizado(si ha sido necesario) para llevar a cabo el trabajo"
   ]
  },
  {
   "cell_type": "markdown",
   "metadata": {
    "id": "YKQ_mRBttWsP"
   },
   "source": [
    "Respuesta"
   ]
  },
  {
   "cell_type": "markdown",
   "metadata": {
    "id": "kAkDPUyRtYyH"
   },
   "source": [
    "Describe brevemente las lineas de como crees que es posible avanzar en el estudio del problema. Ten en cuenta incluso posibles variaciones del problema y/o variaciones al alza del tamaño"
   ]
  },
  {
   "cell_type": "markdown",
   "metadata": {
    "id": "IE0uZmo-tZu-"
   },
   "source": [
    "Respuesta"
   ]
  },
  {
   "cell_type": "markdown",
   "metadata": {},
   "source": [
    "Primeramente, mejorar la corrección que se hace al momento del cruce, debido a que no puede haber tomas repetidas, estos se están corrigiendo siguiendo un orden del peor alelo al mejor. Sin embargo, en la corrección se asigna una toma aleatoria ahora mismo, no busca aquella que pueda mejora el alelo dentro de las tomas faltantes. Ahora mismo el estado del algoritmo fácilmente se le puede agregar las restricciones de pagos diferentes entre los actores, lo que se acomoda a la vida real. Con respecto al tamaño se puede ampliar la cantidad de días de rodaje siguiendo la simetría con las tomas necesarias, a futuro debería soportar esa asimetría. Con respecto a la cantidad de los actores ahora mismo soporta la variación como se ve dentro del segundo ejemplo. "
   ]
  }
 ],
 "metadata": {
  "colab": {
   "collapsed_sections": [],
   "name": "Seminario - Algoritmos.ipynb",
   "provenance": []
  },
  "kernelspec": {
   "display_name": "Python 3 (ipykernel)",
   "language": "python",
   "name": "python3"
  },
  "language_info": {
   "codemirror_mode": {
    "name": "ipython",
    "version": 3
   },
   "file_extension": ".py",
   "mimetype": "text/x-python",
   "name": "python",
   "nbconvert_exporter": "python",
   "pygments_lexer": "ipython3",
   "version": "3.7.3"
  }
 },
 "nbformat": 4,
 "nbformat_minor": 4
}
